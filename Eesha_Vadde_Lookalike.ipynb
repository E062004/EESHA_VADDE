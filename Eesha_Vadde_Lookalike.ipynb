{
  "nbformat": 4,
  "nbformat_minor": 0,
  "metadata": {
    "colab": {
      "provenance": []
    },
    "kernelspec": {
      "name": "python3",
      "display_name": "Python 3"
    },
    "language_info": {
      "name": "python"
    }
  },
  "cells": [
    {
      "cell_type": "code",
      "source": [
        "# Prepare Data for Similarity\n",
        "customer_profile = merged_data.groupby('CustomerID').agg({\n",
        "    'TotalValue': 'sum',\n",
        "    'Quantity': 'sum',\n",
        "    'Price_x': 'mean'\n",
        "}).reset_index()\n",
        "\n",
        "# Normalize the data\n",
        "scaler = StandardScaler()\n",
        "profile_normalized = scaler.fit_transform(customer_profile.iloc[:, 1:])\n",
        "\n",
        "# Compute Cosine Similarity\n",
        "similarity_matrix = cosine_similarity(profile_normalized)\n",
        "\n",
        "# Function to get top 3 similar customers\n",
        "def get_top_3_similar(customers_list, similarity_matrix):\n",
        "    results = {}\n",
        "    for idx in customers_list:\n",
        "        similarities = similarity_matrix[idx]\n",
        "        similar_customers = np.argsort(similarities)[::-1][1:4]\n",
        "        results[customer_profile.iloc[idx]['CustomerID']] = [\n",
        "            (customer_profile.iloc[i]['CustomerID'], similarities[i]) for i in similar_customers\n",
        "        ]\n",
        "    return results\n",
        "\n",
        "# Get top 3 similar customers for first 20 customers\n",
        "customer_ids = list(range(20))\n",
        "lookalikes = get_top_3_similar(customer_ids, similarity_matrix)\n",
        "\n",
        "# Save to CSV\n",
        "lookalikes_df = pd.DataFrame.from_dict(\n",
        "    {k: [v] for k, v in lookalikes.items()},\n",
        "    orient='index', columns=['Similar_Customers']\n",
        ")\n",
        "lookalikes_df.to_csv('/content/Eesha_Vadde_Lookalike.csv')\n"
      ],
      "metadata": {
        "id": "4hc7o9531pW5"
      },
      "execution_count": null,
      "outputs": []
    }
  ]
}